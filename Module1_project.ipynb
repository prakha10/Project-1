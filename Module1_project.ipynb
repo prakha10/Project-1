{
  "nbformat": 4,
  "nbformat_minor": 0,
  "metadata": {
    "colab": {
      "name": "Module1_project.ipynb",
      "provenance": [],
      "authorship_tag": "ABX9TyMSC9IHZ9b9uIx9Do/gPbp5",
      "include_colab_link": true
    },
    "kernelspec": {
      "name": "python3",
      "display_name": "Python 3"
    }
  },
  "cells": [
    {
      "cell_type": "markdown",
      "metadata": {
        "id": "view-in-github",
        "colab_type": "text"
      },
      "source": [
        "<a href=\"https://colab.research.google.com/github/rajatlamsal00977/Project-1/blob/main/Module1_project.ipynb\" target=\"_parent\"><img src=\"https://colab.research.google.com/assets/colab-badge.svg\" alt=\"Open In Colab\"/></a>"
      ]
    },
    {
      "cell_type": "code",
      "metadata": {
        "id": "6eu5nwmSjCsB"
      },
      "source": [
        "#this is where we'll start coding."
      ],
      "execution_count": null,
      "outputs": []
    },
    {
      "cell_type": "markdown",
      "metadata": {
        "id": "Eb0GloedkJNq"
      },
      "source": [
        "first line \r\n"
      ]
    }
  ]
}