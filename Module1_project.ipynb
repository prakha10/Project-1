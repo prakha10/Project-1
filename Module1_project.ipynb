{
  "nbformat": 4,
  "nbformat_minor": 0,
  "metadata": {
    "colab": {
      "name": "Module1_project.ipynb",
      "provenance": [],
      "include_colab_link": true
    },
    "kernelspec": {
      "name": "python3",
      "display_name": "Python 3"
    }
  },
  "cells": [
    {
      "cell_type": "markdown",
      "metadata": {
        "id": "view-in-github",
        "colab_type": "text"
      },
      "source": [
        "<a href=\"https://colab.research.google.com/github/rajatlamsal00977/Project-1/blob/main/Module1_project.ipynb\" target=\"_parent\"><img src=\"https://colab.research.google.com/assets/colab-badge.svg\" alt=\"Open In Colab\"/></a>"
      ]
    },
    {
      "cell_type": "code",
      "metadata": {
        "id": "6eu5nwmSjCsB"
      },
      "source": [
        "def TrueError(actual, estimate):\r\n",
        "  return actual - estimate\r\n",
        "\r\n",
        "def RelativeError(actual, estimate):\r\n",
        "  return TrueError(actual, estimate)/actual\r\n",
        "\r\n",
        "def ApproximateError(EstimateBefore, EstimateAfter):\r\n",
        "  return EstimateAfter - EstimateBefore\r\n",
        "\r\n",
        "def ApproximateRelative(EstimateBefore, EstimateAfter):\r\n",
        "  return ApproximateError(EstimateBefore, EstimateAfter)/ EstimateAfter"
      ],
      "execution_count": null,
      "outputs": []
    },
    {
      "cell_type": "markdown",
      "metadata": {
        "id": "Eb0GloedkJNq"
      },
      "source": [
        "Taylor Expansion\r\n",
        "\r\n",
        "We will be computing estimate for cosx centered at \r\n"
      ]
    },
    {
      "cell_type": "code",
      "metadata": {
        "id": "3xoEalilkjm_"
      },
      "source": [
        ""
      ],
      "execution_count": null,
      "outputs": []
    },
    {
      "cell_type": "markdown",
      "metadata": {
        "id": "y1MMQOk7mvuk"
      },
      "source": [
        ""
      ]
    }
  ]
}